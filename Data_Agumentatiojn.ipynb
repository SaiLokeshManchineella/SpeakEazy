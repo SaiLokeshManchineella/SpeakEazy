{
 "cells": [
  {
   "cell_type": "code",
   "execution_count": 7,
   "id": "87c342d1",
   "metadata": {},
   "outputs": [
    {
     "name": "stdout",
     "output_type": "stream",
     "text": [
      "Collecting moviepy\n",
      "  Using cached moviepy-1.0.3-py3-none-any.whl\n",
      "Collecting decorator<5.0,>=4.0.2 (from moviepy)\n",
      "  Obtaining dependency information for decorator<5.0,>=4.0.2 from https://files.pythonhosted.org/packages/ed/1b/72a1821152d07cf1d8b6fce298aeb06a7eb90f4d6d41acec9861e7cc6df0/decorator-4.4.2-py2.py3-none-any.whl.metadata\n",
      "  Downloading decorator-4.4.2-py2.py3-none-any.whl.metadata (4.2 kB)\n",
      "Requirement already satisfied: tqdm<5.0,>=4.11.2 in c:\\users\\sailo\\anaconda3\\lib\\site-packages (from moviepy) (4.65.0)\n",
      "Requirement already satisfied: requests<3.0,>=2.8.1 in c:\\users\\sailo\\anaconda3\\lib\\site-packages (from moviepy) (2.31.0)\n",
      "Collecting proglog<=1.0.0 (from moviepy)\n",
      "  Obtaining dependency information for proglog<=1.0.0 from https://files.pythonhosted.org/packages/8b/f5/cab5cf6a540c31f5099043de0ae43990fd9cf66f75ecb5e9f254a4e4d4ee/proglog-0.1.10-py3-none-any.whl.metadata\n",
      "  Downloading proglog-0.1.10-py3-none-any.whl.metadata (639 bytes)\n",
      "Requirement already satisfied: numpy>=1.17.3 in c:\\users\\sailo\\anaconda3\\lib\\site-packages (from moviepy) (1.24.3)\n",
      "Requirement already satisfied: imageio<3.0,>=2.5 in c:\\users\\sailo\\anaconda3\\lib\\site-packages (from moviepy) (2.26.0)\n",
      "Collecting imageio-ffmpeg>=0.2.0 (from moviepy)\n",
      "  Obtaining dependency information for imageio-ffmpeg>=0.2.0 from https://files.pythonhosted.org/packages/c6/01/716106099e48c4f419876d5814679a94dd7d6f441217c97c1b608123c6bb/imageio_ffmpeg-0.4.9-py3-none-win_amd64.whl.metadata\n",
      "  Downloading imageio_ffmpeg-0.4.9-py3-none-win_amd64.whl.metadata (1.7 kB)\n",
      "Requirement already satisfied: pillow>=8.3.2 in c:\\users\\sailo\\anaconda3\\lib\\site-packages (from imageio<3.0,>=2.5->moviepy) (9.4.0)\n",
      "Requirement already satisfied: setuptools in c:\\users\\sailo\\anaconda3\\lib\\site-packages (from imageio-ffmpeg>=0.2.0->moviepy) (68.0.0)\n",
      "Requirement already satisfied: charset-normalizer<4,>=2 in c:\\users\\sailo\\anaconda3\\lib\\site-packages (from requests<3.0,>=2.8.1->moviepy) (2.0.4)\n",
      "Requirement already satisfied: idna<4,>=2.5 in c:\\users\\sailo\\anaconda3\\lib\\site-packages (from requests<3.0,>=2.8.1->moviepy) (3.4)\n",
      "Requirement already satisfied: urllib3<3,>=1.21.1 in c:\\users\\sailo\\anaconda3\\lib\\site-packages (from requests<3.0,>=2.8.1->moviepy) (1.26.16)\n",
      "Requirement already satisfied: certifi>=2017.4.17 in c:\\users\\sailo\\anaconda3\\lib\\site-packages (from requests<3.0,>=2.8.1->moviepy) (2023.7.22)\n",
      "Requirement already satisfied: colorama in c:\\users\\sailo\\anaconda3\\lib\\site-packages (from tqdm<5.0,>=4.11.2->moviepy) (0.4.6)\n",
      "Downloading decorator-4.4.2-py2.py3-none-any.whl (9.2 kB)\n",
      "Downloading imageio_ffmpeg-0.4.9-py3-none-win_amd64.whl (22.6 MB)\n",
      "   ---------------------------------------- 0.0/22.6 MB ? eta -:--:--\n",
      "   ---------------------------------------- 0.0/22.6 MB ? eta -:--:--\n",
      "   ---------------------------------------- 0.1/22.6 MB 812.7 kB/s eta 0:00:28\n",
      "   ---------------------------------------- 0.2/22.6 MB 1.5 MB/s eta 0:00:16\n",
      "    --------------------------------------- 0.4/22.6 MB 2.1 MB/s eta 0:00:11\n",
      "    --------------------------------------- 0.5/22.6 MB 2.6 MB/s eta 0:00:09\n",
      "   - -------------------------------------- 0.7/22.6 MB 2.5 MB/s eta 0:00:09\n",
      "   - -------------------------------------- 1.1/22.6 MB 3.2 MB/s eta 0:00:07\n",
      "   -- ------------------------------------- 1.2/22.6 MB 3.4 MB/s eta 0:00:07\n",
      "   -- ------------------------------------- 1.4/22.6 MB 3.5 MB/s eta 0:00:07\n",
      "   -- ------------------------------------- 1.6/22.6 MB 3.5 MB/s eta 0:00:07\n",
      "   --- ------------------------------------ 2.0/22.6 MB 3.9 MB/s eta 0:00:06\n",
      "   --- ------------------------------------ 2.2/22.6 MB 3.9 MB/s eta 0:00:06\n",
      "   ---- ----------------------------------- 2.3/22.6 MB 3.8 MB/s eta 0:00:06\n",
      "   ---- ----------------------------------- 2.3/22.6 MB 3.5 MB/s eta 0:00:06\n",
      "   ---- ----------------------------------- 2.3/22.6 MB 3.4 MB/s eta 0:00:06\n",
      "   ---- ----------------------------------- 2.4/22.6 MB 3.2 MB/s eta 0:00:07\n",
      "   ---- ----------------------------------- 2.4/22.6 MB 3.2 MB/s eta 0:00:07\n",
      "   ---- ----------------------------------- 2.5/22.6 MB 3.0 MB/s eta 0:00:07\n",
      "   ---- ----------------------------------- 2.5/22.6 MB 2.9 MB/s eta 0:00:07\n",
      "   ---- ----------------------------------- 2.6/22.6 MB 2.8 MB/s eta 0:00:08\n",
      "   ---- ----------------------------------- 2.6/22.6 MB 2.7 MB/s eta 0:00:08\n",
      "   ---- ----------------------------------- 2.7/22.6 MB 2.6 MB/s eta 0:00:08\n",
      "   ---- ----------------------------------- 2.7/22.6 MB 2.5 MB/s eta 0:00:09\n",
      "   ---- ----------------------------------- 2.7/22.6 MB 2.4 MB/s eta 0:00:09\n",
      "   ---- ----------------------------------- 2.8/22.6 MB 2.4 MB/s eta 0:00:09\n",
      "   ---- ----------------------------------- 2.8/22.6 MB 2.3 MB/s eta 0:00:09\n",
      "   ---- ----------------------------------- 2.8/22.6 MB 2.2 MB/s eta 0:00:09\n",
      "   ---- ----------------------------------- 2.8/22.6 MB 2.1 MB/s eta 0:00:10\n",
      "   ---- ----------------------------------- 2.8/22.6 MB 2.1 MB/s eta 0:00:10\n",
      "   ----- ---------------------------------- 2.8/22.6 MB 2.0 MB/s eta 0:00:10\n",
      "   ----- ---------------------------------- 2.9/22.6 MB 2.0 MB/s eta 0:00:11\n",
      "   ----- ---------------------------------- 2.9/22.6 MB 1.9 MB/s eta 0:00:11\n",
      "   ----- ---------------------------------- 3.0/22.6 MB 1.9 MB/s eta 0:00:11\n",
      "   ----- ---------------------------------- 3.1/22.6 MB 1.9 MB/s eta 0:00:11\n",
      "   ----- ---------------------------------- 3.3/22.6 MB 2.0 MB/s eta 0:00:10\n",
      "   ------ --------------------------------- 3.6/22.6 MB 2.1 MB/s eta 0:00:10\n",
      "   ------ --------------------------------- 3.7/22.6 MB 2.2 MB/s eta 0:00:09\n",
      "   ------ --------------------------------- 3.8/22.6 MB 2.2 MB/s eta 0:00:09\n",
      "   ------- -------------------------------- 4.1/22.6 MB 2.2 MB/s eta 0:00:09\n",
      "   ------- -------------------------------- 4.5/22.6 MB 2.4 MB/s eta 0:00:08\n",
      "   -------- ------------------------------- 4.8/22.6 MB 2.5 MB/s eta 0:00:08\n",
      "   --------- ------------------------------ 5.2/22.6 MB 2.6 MB/s eta 0:00:07\n",
      "   --------- ------------------------------ 5.4/22.6 MB 2.7 MB/s eta 0:00:07\n",
      "   ---------- ----------------------------- 5.9/22.6 MB 2.8 MB/s eta 0:00:06\n",
      "   ---------- ----------------------------- 6.2/22.6 MB 3.0 MB/s eta 0:00:06\n",
      "   ----------- ---------------------------- 6.6/22.6 MB 3.0 MB/s eta 0:00:06\n",
      "   ----------- ---------------------------- 6.6/22.6 MB 3.0 MB/s eta 0:00:06\n",
      "   ----------- ---------------------------- 6.7/22.6 MB 2.9 MB/s eta 0:00:06\n",
      "   ----------- ---------------------------- 6.8/22.6 MB 2.9 MB/s eta 0:00:06\n",
      "   ------------ --------------------------- 6.8/22.6 MB 2.9 MB/s eta 0:00:06\n",
      "   ------------ --------------------------- 6.9/22.6 MB 2.9 MB/s eta 0:00:06\n",
      "   ------------ --------------------------- 7.0/22.6 MB 2.8 MB/s eta 0:00:06\n",
      "   ------------ --------------------------- 7.0/22.6 MB 2.8 MB/s eta 0:00:06\n",
      "   ------------ --------------------------- 7.0/22.6 MB 2.8 MB/s eta 0:00:06\n",
      "   ------------ --------------------------- 7.1/22.6 MB 2.7 MB/s eta 0:00:06\n",
      "   ------------ --------------------------- 7.2/22.6 MB 2.7 MB/s eta 0:00:06\n",
      "   ------------ --------------------------- 7.2/22.6 MB 2.7 MB/s eta 0:00:06\n",
      "   ------------ --------------------------- 7.3/22.6 MB 2.7 MB/s eta 0:00:06\n",
      "   ------------- -------------------------- 7.4/22.6 MB 2.7 MB/s eta 0:00:06\n",
      "   ------------- -------------------------- 7.5/22.6 MB 2.7 MB/s eta 0:00:06\n",
      "   ------------- -------------------------- 7.7/22.6 MB 2.7 MB/s eta 0:00:06\n",
      "   ------------- -------------------------- 7.9/22.6 MB 2.7 MB/s eta 0:00:06\n",
      "   -------------- ------------------------- 8.1/22.6 MB 2.7 MB/s eta 0:00:06\n",
      "   -------------- ------------------------- 8.3/22.6 MB 2.8 MB/s eta 0:00:06\n",
      "   -------------- ------------------------- 8.4/22.6 MB 2.8 MB/s eta 0:00:06\n",
      "   --------------- ------------------------ 8.6/22.6 MB 2.8 MB/s eta 0:00:06\n",
      "   --------------- ------------------------ 8.7/22.6 MB 2.8 MB/s eta 0:00:06\n",
      "   --------------- ------------------------ 8.9/22.6 MB 2.8 MB/s eta 0:00:05\n",
      "   ---------------- ----------------------- 9.1/22.6 MB 2.8 MB/s eta 0:00:05\n",
      "   ---------------- ----------------------- 9.2/22.6 MB 2.8 MB/s eta 0:00:05\n",
      "   ---------------- ----------------------- 9.4/22.6 MB 2.8 MB/s eta 0:00:05\n",
      "   ----------------- ---------------------- 9.6/22.6 MB 2.8 MB/s eta 0:00:05\n",
      "   ----------------- ---------------------- 9.8/22.6 MB 2.9 MB/s eta 0:00:05\n",
      "   ----------------- ---------------------- 10.2/22.6 MB 2.9 MB/s eta 0:00:05\n",
      "   ------------------ --------------------- 10.5/22.6 MB 3.0 MB/s eta 0:00:04\n",
      "   ------------------- -------------------- 10.9/22.6 MB 3.1 MB/s eta 0:00:04\n",
      "   ------------------- -------------------- 11.0/22.6 MB 3.0 MB/s eta 0:00:04\n",
      "   ------------------- -------------------- 11.2/22.6 MB 3.0 MB/s eta 0:00:04\n",
      "   ------------------- -------------------- 11.2/22.6 MB 3.0 MB/s eta 0:00:04\n",
      "   ------------------- -------------------- 11.2/22.6 MB 3.0 MB/s eta 0:00:04\n",
      "   ------------------- -------------------- 11.2/22.6 MB 3.0 MB/s eta 0:00:04\n",
      "   ------------------- -------------------- 11.2/22.6 MB 3.0 MB/s eta 0:00:04\n",
      "   ------------------- -------------------- 11.2/22.6 MB 3.0 MB/s eta 0:00:04\n",
      "   ------------------- -------------------- 11.2/22.6 MB 3.0 MB/s eta 0:00:04\n",
      "   ------------------- -------------------- 11.2/22.6 MB 3.0 MB/s eta 0:00:04\n",
      "   ------------------- -------------------- 11.2/22.6 MB 3.0 MB/s eta 0:00:04\n",
      "   ------------------- -------------------- 11.2/22.6 MB 3.0 MB/s eta 0:00:04\n",
      "   ------------------- -------------------- 11.2/22.6 MB 3.0 MB/s eta 0:00:04\n",
      "   ------------------- -------------------- 11.2/22.6 MB 2.6 MB/s eta 0:00:05\n",
      "   ------------------- -------------------- 11.2/22.6 MB 2.6 MB/s eta 0:00:05\n",
      "   ------------------- -------------------- 11.2/22.6 MB 2.6 MB/s eta 0:00:05\n",
      "   ------------------- -------------------- 11.2/22.6 MB 2.6 MB/s eta 0:00:05\n",
      "   ------------------- -------------------- 11.2/22.6 MB 2.5 MB/s eta 0:00:05\n",
      "   ------------------- -------------------- 11.2/22.6 MB 2.5 MB/s eta 0:00:05\n",
      "   ------------------- -------------------- 11.2/22.6 MB 2.5 MB/s eta 0:00:05\n",
      "   --------------------- ------------------ 12.1/22.6 MB 2.5 MB/s eta 0:00:05\n",
      "   --------------------- ------------------ 12.1/22.6 MB 2.5 MB/s eta 0:00:05\n",
      "   --------------------- ------------------ 12.2/22.6 MB 2.5 MB/s eta 0:00:05\n",
      "   --------------------- ------------------ 12.2/22.6 MB 2.4 MB/s eta 0:00:05\n",
      "   --------------------- ------------------ 12.2/22.6 MB 2.4 MB/s eta 0:00:05\n",
      "   --------------------- ------------------ 12.2/22.6 MB 2.4 MB/s eta 0:00:05\n",
      "   --------------------- ------------------ 12.2/22.6 MB 2.4 MB/s eta 0:00:05\n",
      "   --------------------- ------------------ 12.2/22.6 MB 2.4 MB/s eta 0:00:05\n",
      "   --------------------- ------------------ 12.2/22.6 MB 2.3 MB/s eta 0:00:05\n",
      "   --------------------- ------------------ 12.2/22.6 MB 2.3 MB/s eta 0:00:05\n",
      "   --------------------- ------------------ 12.2/22.6 MB 2.3 MB/s eta 0:00:05\n",
      "   --------------------- ------------------ 12.2/22.6 MB 2.3 MB/s eta 0:00:05\n",
      "   --------------------- ------------------ 12.2/22.6 MB 2.3 MB/s eta 0:00:05\n",
      "   --------------------- ------------------ 12.2/22.6 MB 2.3 MB/s eta 0:00:05\n",
      "   --------------------- ------------------ 12.2/22.6 MB 2.3 MB/s eta 0:00:05\n",
      "   --------------------- ------------------ 12.2/22.6 MB 2.3 MB/s eta 0:00:05\n",
      "   --------------------- ------------------ 12.2/22.6 MB 2.3 MB/s eta 0:00:05\n",
      "   --------------------- ------------------ 12.2/22.6 MB 2.3 MB/s eta 0:00:05\n",
      "   --------------------- ------------------ 12.2/22.6 MB 2.3 MB/s eta 0:00:05\n",
      "   --------------------- ------------------ 12.2/22.6 MB 2.3 MB/s eta 0:00:05\n",
      "   --------------------- ------------------ 12.2/22.6 MB 2.3 MB/s eta 0:00:05\n",
      "   --------------------- ------------------ 12.2/22.6 MB 2.3 MB/s eta 0:00:05\n",
      "   --------------------- ------------------ 12.2/22.6 MB 2.3 MB/s eta 0:00:05\n",
      "   --------------------- ------------------ 12.2/22.6 MB 2.3 MB/s eta 0:00:05\n",
      "   --------------------- ------------------ 12.2/22.6 MB 2.3 MB/s eta 0:00:05\n",
      "   --------------------- ------------------ 12.2/22.6 MB 2.3 MB/s eta 0:00:05\n",
      "   --------------------- ------------------ 12.2/22.6 MB 2.3 MB/s eta 0:00:05\n",
      "   --------------------- ------------------ 12.2/22.6 MB 2.3 MB/s eta 0:00:05\n",
      "   --------------------- ------------------ 12.2/22.6 MB 2.3 MB/s eta 0:00:05\n",
      "   --------------------- ------------------ 12.2/22.6 MB 2.3 MB/s eta 0:00:05\n",
      "   --------------------- ------------------ 12.2/22.6 MB 2.3 MB/s eta 0:00:05\n",
      "   --------------------- ------------------ 12.2/22.6 MB 2.3 MB/s eta 0:00:05\n",
      "   --------------------- ------------------ 12.2/22.6 MB 2.3 MB/s eta 0:00:05\n",
      "   --------------------- ------------------ 12.2/22.6 MB 2.3 MB/s eta 0:00:05\n",
      "   --------------------- ------------------ 12.2/22.6 MB 2.3 MB/s eta 0:00:05\n",
      "   --------------------- ------------------ 12.2/22.6 MB 2.3 MB/s eta 0:00:05\n",
      "   --------------------- ------------------ 12.2/22.6 MB 2.3 MB/s eta 0:00:05\n",
      "   --------------------- ------------------ 12.2/22.6 MB 2.3 MB/s eta 0:00:05\n",
      "   --------------------- ------------------ 12.2/22.6 MB 2.3 MB/s eta 0:00:05\n",
      "   --------------------- ------------------ 12.2/22.6 MB 2.3 MB/s eta 0:00:05\n",
      "   --------------------- ------------------ 12.2/22.6 MB 2.3 MB/s eta 0:00:05\n",
      "   --------------------- ------------------ 12.2/22.6 MB 2.3 MB/s eta 0:00:05\n",
      "   --------------------- ------------------ 12.2/22.6 MB 2.3 MB/s eta 0:00:05\n",
      "   --------------------- ------------------ 12.2/22.6 MB 2.3 MB/s eta 0:00:05\n",
      "   --------------------- ------------------ 12.2/22.6 MB 2.3 MB/s eta 0:00:05\n",
      "   --------------------- ------------------ 12.2/22.6 MB 2.3 MB/s eta 0:00:05\n",
      "   --------------------- ------------------ 12.2/22.6 MB 2.3 MB/s eta 0:00:05\n",
      "   --------------------- ------------------ 12.2/22.6 MB 2.3 MB/s eta 0:00:05\n",
      "   --------------------- ------------------ 12.2/22.6 MB 2.3 MB/s eta 0:00:05\n",
      "   --------------------- ------------------ 12.2/22.6 MB 2.3 MB/s eta 0:00:05\n",
      "   --------------------- ------------------ 12.2/22.6 MB 2.3 MB/s eta 0:00:05\n",
      "   --------------------- ------------------ 12.2/22.6 MB 2.3 MB/s eta 0:00:05\n",
      "   --------------------- ------------------ 12.2/22.6 MB 2.3 MB/s eta 0:00:05\n",
      "   --------------------- ------------------ 12.2/22.6 MB 2.3 MB/s eta 0:00:05\n",
      "   --------------------- ------------------ 12.2/22.6 MB 2.3 MB/s eta 0:00:05\n",
      "   --------------------- ------------------ 12.2/22.6 MB 1.5 MB/s eta 0:00:07\n",
      "   --------------------- ------------------ 12.3/22.6 MB 1.5 MB/s eta 0:00:07\n",
      "   --------------------- ------------------ 12.3/22.6 MB 1.5 MB/s eta 0:00:07\n",
      "   --------------------- ------------------ 12.4/22.6 MB 1.5 MB/s eta 0:00:07\n",
      "   ---------------------- ----------------- 12.5/22.6 MB 1.5 MB/s eta 0:00:07\n",
      "   ---------------------- ----------------- 12.6/22.6 MB 1.5 MB/s eta 0:00:07\n",
      "   ---------------------- ----------------- 12.8/22.6 MB 1.6 MB/s eta 0:00:07\n",
      "   ----------------------- ---------------- 13.4/22.6 MB 1.7 MB/s eta 0:00:06\n",
      "   ------------------------ --------------- 13.6/22.6 MB 1.7 MB/s eta 0:00:06\n",
      "   ------------------------ --------------- 13.9/22.6 MB 1.7 MB/s eta 0:00:06\n",
      "   ------------------------ --------------- 14.0/22.6 MB 1.7 MB/s eta 0:00:05\n",
      "   ------------------------- -------------- 14.4/22.6 MB 1.7 MB/s eta 0:00:05\n",
      "   ------------------------- -------------- 14.6/22.6 MB 1.7 MB/s eta 0:00:05\n",
      "   -------------------------- ------------- 14.9/22.6 MB 1.7 MB/s eta 0:00:05\n",
      "   -------------------------- ------------- 15.1/22.6 MB 1.7 MB/s eta 0:00:05\n",
      "   --------------------------- ------------ 15.3/22.6 MB 1.7 MB/s eta 0:00:05\n",
      "   --------------------------- ------------ 15.6/22.6 MB 1.7 MB/s eta 0:00:05\n",
      "   --------------------------- ------------ 15.7/22.6 MB 1.7 MB/s eta 0:00:05\n",
      "   --------------------------- ------------ 15.8/22.6 MB 1.7 MB/s eta 0:00:05\n",
      "   ---------------------------- ----------- 15.9/22.6 MB 1.7 MB/s eta 0:00:04\n",
      "   ---------------------------- ----------- 16.0/22.6 MB 1.7 MB/s eta 0:00:04\n",
      "   ---------------------------- ----------- 16.2/22.6 MB 1.7 MB/s eta 0:00:04\n",
      "   ---------------------------- ----------- 16.3/22.6 MB 1.7 MB/s eta 0:00:04\n",
      "   ----------------------------- ---------- 16.5/22.6 MB 1.7 MB/s eta 0:00:04\n",
      "   ----------------------------- ---------- 17.0/22.6 MB 1.7 MB/s eta 0:00:04\n",
      "   ------------------------------ --------- 17.4/22.6 MB 1.8 MB/s eta 0:00:03\n",
      "   ------------------------------- -------- 17.7/22.6 MB 1.8 MB/s eta 0:00:03\n",
      "   ------------------------------- -------- 17.9/22.6 MB 1.8 MB/s eta 0:00:03\n",
      "   ------------------------------- -------- 18.0/22.6 MB 1.8 MB/s eta 0:00:03\n",
      "   -------------------------------- ------- 18.2/22.6 MB 1.8 MB/s eta 0:00:03\n",
      "   -------------------------------- ------- 18.4/22.6 MB 1.8 MB/s eta 0:00:03\n",
      "   -------------------------------- ------- 18.6/22.6 MB 1.8 MB/s eta 0:00:03\n",
      "   --------------------------------- ------ 19.1/22.6 MB 1.8 MB/s eta 0:00:02\n",
      "   ---------------------------------- ----- 19.3/22.6 MB 1.9 MB/s eta 0:00:02\n",
      "   ---------------------------------- ----- 19.8/22.6 MB 1.9 MB/s eta 0:00:02\n",
      "   ----------------------------------- ---- 20.0/22.6 MB 1.9 MB/s eta 0:00:02\n",
      "   ------------------------------------ --- 20.4/22.6 MB 1.9 MB/s eta 0:00:02\n",
      "   ------------------------------------ --- 20.6/22.6 MB 1.9 MB/s eta 0:00:02\n",
      "   ------------------------------------ --- 20.8/22.6 MB 1.9 MB/s eta 0:00:01\n",
      "   ------------------------------------ --- 20.9/22.6 MB 1.9 MB/s eta 0:00:01\n",
      "   ------------------------------------- -- 21.0/22.6 MB 1.9 MB/s eta 0:00:01\n",
      "   ------------------------------------- -- 21.0/22.6 MB 1.8 MB/s eta 0:00:01\n",
      "   ------------------------------------- -- 21.1/22.6 MB 1.8 MB/s eta 0:00:01\n",
      "   ------------------------------------- -- 21.1/22.6 MB 1.8 MB/s eta 0:00:01\n",
      "   ------------------------------------- -- 21.2/22.6 MB 1.8 MB/s eta 0:00:01\n",
      "   ------------------------------------- -- 21.2/22.6 MB 1.8 MB/s eta 0:00:01\n",
      "   ------------------------------------- -- 21.3/22.6 MB 1.8 MB/s eta 0:00:01\n",
      "   ------------------------------------- -- 21.5/22.6 MB 2.1 MB/s eta 0:00:01\n",
      "   -------------------------------------- - 21.6/22.6 MB 2.1 MB/s eta 0:00:01\n",
      "   -------------------------------------- - 21.7/22.6 MB 2.1 MB/s eta 0:00:01\n",
      "   -------------------------------------- - 21.9/22.6 MB 2.0 MB/s eta 0:00:01\n",
      "   -------------------------------------- - 22.0/22.6 MB 2.0 MB/s eta 0:00:01\n",
      "   ---------------------------------------  22.2/22.6 MB 2.0 MB/s eta 0:00:01\n",
      "   ---------------------------------------  22.4/22.6 MB 2.1 MB/s eta 0:00:01\n",
      "   ---------------------------------------  22.6/22.6 MB 4.2 MB/s eta 0:00:01\n",
      "   ---------------------------------------  22.6/22.6 MB 4.2 MB/s eta 0:00:01\n",
      "   ---------------------------------------- 22.6/22.6 MB 3.8 MB/s eta 0:00:00\n",
      "Downloading proglog-0.1.10-py3-none-any.whl (6.1 kB)\n",
      "Installing collected packages: imageio-ffmpeg, decorator, proglog, moviepy\n",
      "  Attempting uninstall: decorator\n",
      "    Found existing installation: decorator 5.1.1\n",
      "    Uninstalling decorator-5.1.1:\n",
      "      Successfully uninstalled decorator-5.1.1\n",
      "Successfully installed decorator-4.4.2 imageio-ffmpeg-0.4.9 moviepy-1.0.3 proglog-0.1.10\n",
      "Note: you may need to restart the kernel to use updated packages.\n"
     ]
    }
   ],
   "source": [
    "pip install moviepy"
   ]
  },
  {
   "cell_type": "code",
   "execution_count": 9,
   "id": "54e245ad",
   "metadata": {},
   "outputs": [
    {
     "name": "stdout",
     "output_type": "stream",
     "text": [
      "Moviepy - Building video augmented_videos\\5. Beautiful\\MVI_9569_augmented.MOV.\n",
      "MoviePy - Writing audio in MVI_9569_augmentedTEMP_MPY_wvf_snd.mp3\n"
     ]
    },
    {
     "name": "stderr",
     "output_type": "stream",
     "text": [
      "                                                                                                                       \r"
     ]
    },
    {
     "name": "stdout",
     "output_type": "stream",
     "text": [
      "MoviePy - Done.\n",
      "Moviepy - Writing video augmented_videos\\5. Beautiful\\MVI_9569_augmented.MOV\n",
      "\n"
     ]
    },
    {
     "name": "stderr",
     "output_type": "stream",
     "text": [
      "                                                                                                                       \r"
     ]
    },
    {
     "name": "stdout",
     "output_type": "stream",
     "text": [
      "Moviepy - Done !\n",
      "Moviepy - video ready augmented_videos\\5. Beautiful\\MVI_9569_augmented.MOV\n",
      "Moviepy - Building video augmented_videos\\5. Beautiful\\MVI_9570_augmented.MOV.\n",
      "MoviePy - Writing audio in MVI_9570_augmentedTEMP_MPY_wvf_snd.mp3\n"
     ]
    },
    {
     "name": "stderr",
     "output_type": "stream",
     "text": [
      "                                                                                                                       \r"
     ]
    },
    {
     "name": "stdout",
     "output_type": "stream",
     "text": [
      "MoviePy - Done.\n",
      "Moviepy - Writing video augmented_videos\\5. Beautiful\\MVI_9570_augmented.MOV\n",
      "\n"
     ]
    },
    {
     "name": "stderr",
     "output_type": "stream",
     "text": [
      "                                                                                                                       \r"
     ]
    },
    {
     "name": "stdout",
     "output_type": "stream",
     "text": [
      "Moviepy - Done !\n",
      "Moviepy - video ready augmented_videos\\5. Beautiful\\MVI_9570_augmented.MOV\n",
      "Moviepy - Building video augmented_videos\\5. Beautiful\\MVI_9571_augmented.MOV.\n",
      "MoviePy - Writing audio in MVI_9571_augmentedTEMP_MPY_wvf_snd.mp3\n"
     ]
    },
    {
     "name": "stderr",
     "output_type": "stream",
     "text": [
      "                                                                                                                       \r"
     ]
    },
    {
     "name": "stdout",
     "output_type": "stream",
     "text": [
      "MoviePy - Done.\n",
      "Moviepy - Writing video augmented_videos\\5. Beautiful\\MVI_9571_augmented.MOV\n",
      "\n"
     ]
    },
    {
     "name": "stderr",
     "output_type": "stream",
     "text": [
      "                                                                                                                       \r"
     ]
    },
    {
     "name": "stdout",
     "output_type": "stream",
     "text": [
      "Moviepy - Done !\n",
      "Moviepy - video ready augmented_videos\\5. Beautiful\\MVI_9571_augmented.MOV\n",
      "Moviepy - Building video augmented_videos\\5. Beautiful\\MVI_9572_augmented.MOV.\n",
      "MoviePy - Writing audio in MVI_9572_augmentedTEMP_MPY_wvf_snd.mp3\n"
     ]
    },
    {
     "name": "stderr",
     "output_type": "stream",
     "text": [
      "                                                                                                                       \r"
     ]
    },
    {
     "name": "stdout",
     "output_type": "stream",
     "text": [
      "MoviePy - Done.\n",
      "Moviepy - Writing video augmented_videos\\5. Beautiful\\MVI_9572_augmented.MOV\n",
      "\n"
     ]
    },
    {
     "name": "stderr",
     "output_type": "stream",
     "text": [
      "                                                                                                                       \r"
     ]
    },
    {
     "name": "stdout",
     "output_type": "stream",
     "text": [
      "Moviepy - Done !\n",
      "Moviepy - video ready augmented_videos\\5. Beautiful\\MVI_9572_augmented.MOV\n",
      "Moviepy - Building video augmented_videos\\5. Beautiful\\MVI_9723_augmented.MOV.\n",
      "MoviePy - Writing audio in MVI_9723_augmentedTEMP_MPY_wvf_snd.mp3\n"
     ]
    },
    {
     "name": "stderr",
     "output_type": "stream",
     "text": [
      "                                                                                                                       \r"
     ]
    },
    {
     "name": "stdout",
     "output_type": "stream",
     "text": [
      "MoviePy - Done.\n",
      "Moviepy - Writing video augmented_videos\\5. Beautiful\\MVI_9723_augmented.MOV\n",
      "\n"
     ]
    },
    {
     "name": "stderr",
     "output_type": "stream",
     "text": [
      "                                                                                                                       \r"
     ]
    },
    {
     "name": "stdout",
     "output_type": "stream",
     "text": [
      "Moviepy - Done !\n",
      "Moviepy - video ready augmented_videos\\5. Beautiful\\MVI_9723_augmented.MOV\n",
      "Moviepy - Building video augmented_videos\\5. Beautiful\\MVI_9724_augmented.MOV.\n",
      "MoviePy - Writing audio in MVI_9724_augmentedTEMP_MPY_wvf_snd.mp3\n"
     ]
    },
    {
     "name": "stderr",
     "output_type": "stream",
     "text": [
      "                                                                                                                       \r"
     ]
    },
    {
     "name": "stdout",
     "output_type": "stream",
     "text": [
      "MoviePy - Done.\n",
      "Moviepy - Writing video augmented_videos\\5. Beautiful\\MVI_9724_augmented.MOV\n",
      "\n"
     ]
    },
    {
     "name": "stderr",
     "output_type": "stream",
     "text": [
      "                                                                                                                       \r"
     ]
    },
    {
     "name": "stdout",
     "output_type": "stream",
     "text": [
      "Moviepy - Done !\n",
      "Moviepy - video ready augmented_videos\\5. Beautiful\\MVI_9724_augmented.MOV\n",
      "Moviepy - Building video augmented_videos\\5. Beautiful\\MVI_9725_augmented.MOV.\n",
      "MoviePy - Writing audio in MVI_9725_augmentedTEMP_MPY_wvf_snd.mp3\n"
     ]
    },
    {
     "name": "stderr",
     "output_type": "stream",
     "text": [
      "                                                                                                                       \r"
     ]
    },
    {
     "name": "stdout",
     "output_type": "stream",
     "text": [
      "MoviePy - Done.\n",
      "Moviepy - Writing video augmented_videos\\5. Beautiful\\MVI_9725_augmented.MOV\n",
      "\n"
     ]
    },
    {
     "name": "stderr",
     "output_type": "stream",
     "text": [
      "                                                                                                                       \r"
     ]
    },
    {
     "name": "stdout",
     "output_type": "stream",
     "text": [
      "Moviepy - Done !\n",
      "Moviepy - video ready augmented_videos\\5. Beautiful\\MVI_9725_augmented.MOV\n",
      "Moviepy - Building video augmented_videos\\5. Beautiful\\MVI_9726_augmented.MOV.\n",
      "MoviePy - Writing audio in MVI_9726_augmentedTEMP_MPY_wvf_snd.mp3\n"
     ]
    },
    {
     "name": "stderr",
     "output_type": "stream",
     "text": [
      "                                                                                                                       \r"
     ]
    },
    {
     "name": "stdout",
     "output_type": "stream",
     "text": [
      "MoviePy - Done.\n",
      "Moviepy - Writing video augmented_videos\\5. Beautiful\\MVI_9726_augmented.MOV\n",
      "\n"
     ]
    },
    {
     "name": "stderr",
     "output_type": "stream",
     "text": [
      "                                                                                                                       \r"
     ]
    },
    {
     "name": "stdout",
     "output_type": "stream",
     "text": [
      "Moviepy - Done !\n",
      "Moviepy - video ready augmented_videos\\5. Beautiful\\MVI_9726_augmented.MOV\n",
      "Moviepy - Building video augmented_videos\\6. Ugly\\MVI_9576_augmented.MOV.\n",
      "MoviePy - Writing audio in MVI_9576_augmentedTEMP_MPY_wvf_snd.mp3\n"
     ]
    },
    {
     "name": "stderr",
     "output_type": "stream",
     "text": [
      "                                                                                                                       \r"
     ]
    },
    {
     "name": "stdout",
     "output_type": "stream",
     "text": [
      "MoviePy - Done.\n",
      "Moviepy - Writing video augmented_videos\\6. Ugly\\MVI_9576_augmented.MOV\n",
      "\n"
     ]
    },
    {
     "name": "stderr",
     "output_type": "stream",
     "text": [
      "                                                                                                                       \r"
     ]
    },
    {
     "name": "stdout",
     "output_type": "stream",
     "text": [
      "Moviepy - Done !\n",
      "Moviepy - video ready augmented_videos\\6. Ugly\\MVI_9576_augmented.MOV\n",
      "Moviepy - Building video augmented_videos\\6. Ugly\\MVI_9577_augmented.MOV.\n",
      "MoviePy - Writing audio in MVI_9577_augmentedTEMP_MPY_wvf_snd.mp3\n"
     ]
    },
    {
     "name": "stderr",
     "output_type": "stream",
     "text": [
      "                                                                                                                       \r"
     ]
    },
    {
     "name": "stdout",
     "output_type": "stream",
     "text": [
      "MoviePy - Done.\n",
      "Moviepy - Writing video augmented_videos\\6. Ugly\\MVI_9577_augmented.MOV\n",
      "\n"
     ]
    },
    {
     "name": "stderr",
     "output_type": "stream",
     "text": [
      "                                                                                                                       \r"
     ]
    },
    {
     "name": "stdout",
     "output_type": "stream",
     "text": [
      "Moviepy - Done !\n",
      "Moviepy - video ready augmented_videos\\6. Ugly\\MVI_9577_augmented.MOV\n",
      "Moviepy - Building video augmented_videos\\6. Ugly\\MVI_9578_augmented.MOV.\n",
      "MoviePy - Writing audio in MVI_9578_augmentedTEMP_MPY_wvf_snd.mp3\n"
     ]
    },
    {
     "name": "stderr",
     "output_type": "stream",
     "text": [
      "                                                                                                                       \r"
     ]
    },
    {
     "name": "stdout",
     "output_type": "stream",
     "text": [
      "MoviePy - Done.\n",
      "Moviepy - Writing video augmented_videos\\6. Ugly\\MVI_9578_augmented.MOV\n",
      "\n"
     ]
    },
    {
     "name": "stderr",
     "output_type": "stream",
     "text": [
      "                                                                                                                       \r"
     ]
    },
    {
     "name": "stdout",
     "output_type": "stream",
     "text": [
      "Moviepy - Done !\n",
      "Moviepy - video ready augmented_videos\\6. Ugly\\MVI_9578_augmented.MOV\n",
      "Moviepy - Building video augmented_videos\\6. Ugly\\MVI_9579_augmented.MOV.\n",
      "MoviePy - Writing audio in MVI_9579_augmentedTEMP_MPY_wvf_snd.mp3\n"
     ]
    },
    {
     "name": "stderr",
     "output_type": "stream",
     "text": [
      "                                                                                                                       \r"
     ]
    },
    {
     "name": "stdout",
     "output_type": "stream",
     "text": [
      "MoviePy - Done.\n",
      "Moviepy - Writing video augmented_videos\\6. Ugly\\MVI_9579_augmented.MOV\n",
      "\n"
     ]
    },
    {
     "name": "stderr",
     "output_type": "stream",
     "text": [
      "                                                                                                                       \r"
     ]
    },
    {
     "name": "stdout",
     "output_type": "stream",
     "text": [
      "Moviepy - Done !\n",
      "Moviepy - video ready augmented_videos\\6. Ugly\\MVI_9579_augmented.MOV\n",
      "Moviepy - Building video augmented_videos\\6. Ugly\\MVI_9844_augmented.MOV.\n",
      "MoviePy - Writing audio in MVI_9844_augmentedTEMP_MPY_wvf_snd.mp3\n"
     ]
    },
    {
     "name": "stderr",
     "output_type": "stream",
     "text": [
      "                                                                                                                       \r"
     ]
    },
    {
     "name": "stdout",
     "output_type": "stream",
     "text": [
      "MoviePy - Done.\n",
      "Moviepy - Writing video augmented_videos\\6. Ugly\\MVI_9844_augmented.MOV\n",
      "\n"
     ]
    },
    {
     "name": "stderr",
     "output_type": "stream",
     "text": [
      "                                                                                                                       \r"
     ]
    },
    {
     "name": "stdout",
     "output_type": "stream",
     "text": [
      "Moviepy - Done !\n",
      "Moviepy - video ready augmented_videos\\6. Ugly\\MVI_9844_augmented.MOV\n",
      "Moviepy - Building video augmented_videos\\6. Ugly\\MVI_9845_augmented.MOV.\n",
      "MoviePy - Writing audio in MVI_9845_augmentedTEMP_MPY_wvf_snd.mp3\n"
     ]
    },
    {
     "name": "stderr",
     "output_type": "stream",
     "text": [
      "                                                                                                                       \r"
     ]
    },
    {
     "name": "stdout",
     "output_type": "stream",
     "text": [
      "MoviePy - Done.\n",
      "Moviepy - Writing video augmented_videos\\6. Ugly\\MVI_9845_augmented.MOV\n",
      "\n"
     ]
    },
    {
     "name": "stderr",
     "output_type": "stream",
     "text": [
      "                                                                                                                       \r"
     ]
    },
    {
     "name": "stdout",
     "output_type": "stream",
     "text": [
      "Moviepy - Done !\n",
      "Moviepy - video ready augmented_videos\\6. Ugly\\MVI_9845_augmented.MOV\n",
      "Moviepy - Building video augmented_videos\\6. Ugly\\MVI_9846_augmented.MOV.\n",
      "MoviePy - Writing audio in MVI_9846_augmentedTEMP_MPY_wvf_snd.mp3\n"
     ]
    },
    {
     "name": "stderr",
     "output_type": "stream",
     "text": [
      "                                                                                                                       \r"
     ]
    },
    {
     "name": "stdout",
     "output_type": "stream",
     "text": [
      "MoviePy - Done.\n",
      "Moviepy - Writing video augmented_videos\\6. Ugly\\MVI_9846_augmented.MOV\n",
      "\n"
     ]
    },
    {
     "name": "stderr",
     "output_type": "stream",
     "text": [
      "                                                                                                                       \r"
     ]
    },
    {
     "name": "stdout",
     "output_type": "stream",
     "text": [
      "Moviepy - Done !\n",
      "Moviepy - video ready augmented_videos\\6. Ugly\\MVI_9846_augmented.MOV\n",
      "Moviepy - Building video augmented_videos\\6. Ugly\\MVI_9847_augmented.MOV.\n",
      "MoviePy - Writing audio in MVI_9847_augmentedTEMP_MPY_wvf_snd.mp3\n"
     ]
    },
    {
     "name": "stderr",
     "output_type": "stream",
     "text": [
      "                                                                                                                       \r"
     ]
    },
    {
     "name": "stdout",
     "output_type": "stream",
     "text": [
      "MoviePy - Done.\n",
      "Moviepy - Writing video augmented_videos\\6. Ugly\\MVI_9847_augmented.MOV\n",
      "\n"
     ]
    },
    {
     "name": "stderr",
     "output_type": "stream",
     "text": [
      "                                                                                                                       \r"
     ]
    },
    {
     "name": "stdout",
     "output_type": "stream",
     "text": [
      "Moviepy - Done !\n",
      "Moviepy - video ready augmented_videos\\6. Ugly\\MVI_9847_augmented.MOV\n",
      "Moviepy - Building video augmented_videos\\7. Deaf\\MVI_9580_augmented.MOV.\n",
      "MoviePy - Writing audio in MVI_9580_augmentedTEMP_MPY_wvf_snd.mp3\n"
     ]
    },
    {
     "name": "stderr",
     "output_type": "stream",
     "text": [
      "                                                                                                                       \r"
     ]
    },
    {
     "name": "stdout",
     "output_type": "stream",
     "text": [
      "MoviePy - Done.\n",
      "Moviepy - Writing video augmented_videos\\7. Deaf\\MVI_9580_augmented.MOV\n",
      "\n"
     ]
    },
    {
     "name": "stderr",
     "output_type": "stream",
     "text": [
      "                                                                                                                       \r"
     ]
    },
    {
     "name": "stdout",
     "output_type": "stream",
     "text": [
      "Moviepy - Done !\n",
      "Moviepy - video ready augmented_videos\\7. Deaf\\MVI_9580_augmented.MOV\n",
      "Moviepy - Building video augmented_videos\\7. Deaf\\MVI_9581_augmented.MOV.\n",
      "MoviePy - Writing audio in MVI_9581_augmentedTEMP_MPY_wvf_snd.mp3\n"
     ]
    },
    {
     "name": "stderr",
     "output_type": "stream",
     "text": [
      "                                                                                                                       \r"
     ]
    },
    {
     "name": "stdout",
     "output_type": "stream",
     "text": [
      "MoviePy - Done.\n",
      "Moviepy - Writing video augmented_videos\\7. Deaf\\MVI_9581_augmented.MOV\n",
      "\n"
     ]
    },
    {
     "name": "stderr",
     "output_type": "stream",
     "text": [
      "                                                                                                                       \r"
     ]
    },
    {
     "name": "stdout",
     "output_type": "stream",
     "text": [
      "Moviepy - Done !\n",
      "Moviepy - video ready augmented_videos\\7. Deaf\\MVI_9581_augmented.MOV\n",
      "Moviepy - Building video augmented_videos\\7. Deaf\\MVI_9582_augmented.MOV.\n",
      "MoviePy - Writing audio in MVI_9582_augmentedTEMP_MPY_wvf_snd.mp3\n"
     ]
    },
    {
     "name": "stderr",
     "output_type": "stream",
     "text": [
      "                                                                                                                       \r"
     ]
    },
    {
     "name": "stdout",
     "output_type": "stream",
     "text": [
      "MoviePy - Done.\n",
      "Moviepy - Writing video augmented_videos\\7. Deaf\\MVI_9582_augmented.MOV\n",
      "\n"
     ]
    },
    {
     "name": "stderr",
     "output_type": "stream",
     "text": [
      "                                                                                                                       \r"
     ]
    },
    {
     "name": "stdout",
     "output_type": "stream",
     "text": [
      "Moviepy - Done !\n",
      "Moviepy - video ready augmented_videos\\7. Deaf\\MVI_9582_augmented.MOV\n",
      "Moviepy - Building video augmented_videos\\7. Deaf\\MVI_9583_augmented.MOV.\n",
      "MoviePy - Writing audio in MVI_9583_augmentedTEMP_MPY_wvf_snd.mp3\n"
     ]
    },
    {
     "name": "stderr",
     "output_type": "stream",
     "text": [
      "                                                                                                                       \r"
     ]
    },
    {
     "name": "stdout",
     "output_type": "stream",
     "text": [
      "MoviePy - Done.\n",
      "Moviepy - Writing video augmented_videos\\7. Deaf\\MVI_9583_augmented.MOV\n",
      "\n"
     ]
    },
    {
     "name": "stderr",
     "output_type": "stream",
     "text": [
      "                                                                                                                       \r"
     ]
    },
    {
     "name": "stdout",
     "output_type": "stream",
     "text": [
      "Moviepy - Done !\n",
      "Moviepy - video ready augmented_videos\\7. Deaf\\MVI_9583_augmented.MOV\n",
      "Moviepy - Building video augmented_videos\\7. Deaf\\MVI_9848_augmented.MOV.\n",
      "MoviePy - Writing audio in MVI_9848_augmentedTEMP_MPY_wvf_snd.mp3\n"
     ]
    },
    {
     "name": "stderr",
     "output_type": "stream",
     "text": [
      "                                                                                                                       \r"
     ]
    },
    {
     "name": "stdout",
     "output_type": "stream",
     "text": [
      "MoviePy - Done.\n",
      "Moviepy - Writing video augmented_videos\\7. Deaf\\MVI_9848_augmented.MOV\n",
      "\n"
     ]
    },
    {
     "name": "stderr",
     "output_type": "stream",
     "text": [
      "                                                                                                                       \r"
     ]
    },
    {
     "name": "stdout",
     "output_type": "stream",
     "text": [
      "Moviepy - Done !\n",
      "Moviepy - video ready augmented_videos\\7. Deaf\\MVI_9848_augmented.MOV\n",
      "Moviepy - Building video augmented_videos\\7. Deaf\\MVI_9849_augmented.MOV.\n",
      "MoviePy - Writing audio in MVI_9849_augmentedTEMP_MPY_wvf_snd.mp3\n"
     ]
    },
    {
     "name": "stderr",
     "output_type": "stream",
     "text": [
      "                                                                                                                       \r"
     ]
    },
    {
     "name": "stdout",
     "output_type": "stream",
     "text": [
      "MoviePy - Done.\n",
      "Moviepy - Writing video augmented_videos\\7. Deaf\\MVI_9849_augmented.MOV\n",
      "\n"
     ]
    },
    {
     "name": "stderr",
     "output_type": "stream",
     "text": [
      "                                                                                                                       \r"
     ]
    },
    {
     "name": "stdout",
     "output_type": "stream",
     "text": [
      "Moviepy - Done !\n",
      "Moviepy - video ready augmented_videos\\7. Deaf\\MVI_9849_augmented.MOV\n",
      "Moviepy - Building video augmented_videos\\7. Deaf\\MVI_9850_augmented.MOV.\n",
      "MoviePy - Writing audio in MVI_9850_augmentedTEMP_MPY_wvf_snd.mp3\n"
     ]
    },
    {
     "name": "stderr",
     "output_type": "stream",
     "text": [
      "                                                                                                                       \r"
     ]
    },
    {
     "name": "stdout",
     "output_type": "stream",
     "text": [
      "MoviePy - Done.\n",
      "Moviepy - Writing video augmented_videos\\7. Deaf\\MVI_9850_augmented.MOV\n",
      "\n"
     ]
    },
    {
     "name": "stderr",
     "output_type": "stream",
     "text": [
      "                                                                                                                       \r"
     ]
    },
    {
     "name": "stdout",
     "output_type": "stream",
     "text": [
      "Moviepy - Done !\n",
      "Moviepy - video ready augmented_videos\\7. Deaf\\MVI_9850_augmented.MOV\n",
      "Moviepy - Building video augmented_videos\\7. Deaf\\MVI_9851_augmented.MOV.\n",
      "MoviePy - Writing audio in MVI_9851_augmentedTEMP_MPY_wvf_snd.mp3\n"
     ]
    },
    {
     "name": "stderr",
     "output_type": "stream",
     "text": [
      "                                                                                                                       \r"
     ]
    },
    {
     "name": "stdout",
     "output_type": "stream",
     "text": [
      "MoviePy - Done.\n",
      "Moviepy - Writing video augmented_videos\\7. Deaf\\MVI_9851_augmented.MOV\n",
      "\n"
     ]
    },
    {
     "name": "stderr",
     "output_type": "stream",
     "text": [
      "                                                                                                                       \r"
     ]
    },
    {
     "name": "stdout",
     "output_type": "stream",
     "text": [
      "Moviepy - Done !\n",
      "Moviepy - video ready augmented_videos\\7. Deaf\\MVI_9851_augmented.MOV\n",
      "Moviepy - Building video augmented_videos\\8. Blind\\MVI_9584_augmented.MOV.\n",
      "MoviePy - Writing audio in MVI_9584_augmentedTEMP_MPY_wvf_snd.mp3\n"
     ]
    },
    {
     "name": "stderr",
     "output_type": "stream",
     "text": [
      "                                                                                                                       \r"
     ]
    },
    {
     "name": "stdout",
     "output_type": "stream",
     "text": [
      "MoviePy - Done.\n",
      "Moviepy - Writing video augmented_videos\\8. Blind\\MVI_9584_augmented.MOV\n",
      "\n"
     ]
    },
    {
     "name": "stderr",
     "output_type": "stream",
     "text": [
      "                                                                                                                       \r"
     ]
    },
    {
     "name": "stdout",
     "output_type": "stream",
     "text": [
      "Moviepy - Done !\n",
      "Moviepy - video ready augmented_videos\\8. Blind\\MVI_9584_augmented.MOV\n",
      "Moviepy - Building video augmented_videos\\8. Blind\\MVI_9585_augmented.MOV.\n",
      "MoviePy - Writing audio in MVI_9585_augmentedTEMP_MPY_wvf_snd.mp3\n"
     ]
    },
    {
     "name": "stderr",
     "output_type": "stream",
     "text": [
      "                                                                                                                       \r"
     ]
    },
    {
     "name": "stdout",
     "output_type": "stream",
     "text": [
      "MoviePy - Done.\n",
      "Moviepy - Writing video augmented_videos\\8. Blind\\MVI_9585_augmented.MOV\n",
      "\n"
     ]
    },
    {
     "name": "stderr",
     "output_type": "stream",
     "text": [
      "                                                                                                                       \r"
     ]
    },
    {
     "name": "stdout",
     "output_type": "stream",
     "text": [
      "Moviepy - Done !\n",
      "Moviepy - video ready augmented_videos\\8. Blind\\MVI_9585_augmented.MOV\n",
      "Moviepy - Building video augmented_videos\\8. Blind\\MVI_9586_augmented.MOV.\n",
      "MoviePy - Writing audio in MVI_9586_augmentedTEMP_MPY_wvf_snd.mp3\n"
     ]
    },
    {
     "name": "stderr",
     "output_type": "stream",
     "text": [
      "                                                                                                                       \r"
     ]
    },
    {
     "name": "stdout",
     "output_type": "stream",
     "text": [
      "MoviePy - Done.\n",
      "Moviepy - Writing video augmented_videos\\8. Blind\\MVI_9586_augmented.MOV\n",
      "\n"
     ]
    },
    {
     "name": "stderr",
     "output_type": "stream",
     "text": [
      "                                                                                                                       \r"
     ]
    },
    {
     "name": "stdout",
     "output_type": "stream",
     "text": [
      "Moviepy - Done !\n",
      "Moviepy - video ready augmented_videos\\8. Blind\\MVI_9586_augmented.MOV\n",
      "Moviepy - Building video augmented_videos\\8. Blind\\MVI_9587_augmented.MOV.\n",
      "MoviePy - Writing audio in MVI_9587_augmentedTEMP_MPY_wvf_snd.mp3\n"
     ]
    },
    {
     "name": "stderr",
     "output_type": "stream",
     "text": [
      "                                                                                                                       \r"
     ]
    },
    {
     "name": "stdout",
     "output_type": "stream",
     "text": [
      "MoviePy - Done.\n",
      "Moviepy - Writing video augmented_videos\\8. Blind\\MVI_9587_augmented.MOV\n",
      "\n"
     ]
    },
    {
     "name": "stderr",
     "output_type": "stream",
     "text": [
      "                                                                                                                       \r"
     ]
    },
    {
     "name": "stdout",
     "output_type": "stream",
     "text": [
      "Moviepy - Done !\n",
      "Moviepy - video ready augmented_videos\\8. Blind\\MVI_9587_augmented.MOV\n",
      "Moviepy - Building video augmented_videos\\8. Blind\\MVI_9852_augmented.MOV.\n",
      "MoviePy - Writing audio in MVI_9852_augmentedTEMP_MPY_wvf_snd.mp3\n"
     ]
    },
    {
     "name": "stderr",
     "output_type": "stream",
     "text": [
      "                                                                                                                       \r"
     ]
    },
    {
     "name": "stdout",
     "output_type": "stream",
     "text": [
      "MoviePy - Done.\n",
      "Moviepy - Writing video augmented_videos\\8. Blind\\MVI_9852_augmented.MOV\n",
      "\n"
     ]
    },
    {
     "name": "stderr",
     "output_type": "stream",
     "text": [
      "                                                                                                                       \r"
     ]
    },
    {
     "name": "stdout",
     "output_type": "stream",
     "text": [
      "Moviepy - Done !\n",
      "Moviepy - video ready augmented_videos\\8. Blind\\MVI_9852_augmented.MOV\n",
      "Moviepy - Building video augmented_videos\\8. Blind\\MVI_9853_augmented.MOV.\n",
      "MoviePy - Writing audio in MVI_9853_augmentedTEMP_MPY_wvf_snd.mp3\n"
     ]
    },
    {
     "name": "stderr",
     "output_type": "stream",
     "text": [
      "                                                                                                                       \r"
     ]
    },
    {
     "name": "stdout",
     "output_type": "stream",
     "text": [
      "MoviePy - Done.\n",
      "Moviepy - Writing video augmented_videos\\8. Blind\\MVI_9853_augmented.MOV\n",
      "\n"
     ]
    },
    {
     "name": "stderr",
     "output_type": "stream",
     "text": [
      "                                                                                                                       \r"
     ]
    },
    {
     "name": "stdout",
     "output_type": "stream",
     "text": [
      "Moviepy - Done !\n",
      "Moviepy - video ready augmented_videos\\8. Blind\\MVI_9853_augmented.MOV\n",
      "Moviepy - Building video augmented_videos\\8. Blind\\MVI_9854_augmented.MOV.\n",
      "MoviePy - Writing audio in MVI_9854_augmentedTEMP_MPY_wvf_snd.mp3\n"
     ]
    },
    {
     "name": "stderr",
     "output_type": "stream",
     "text": [
      "                                                                                                                       \r"
     ]
    },
    {
     "name": "stdout",
     "output_type": "stream",
     "text": [
      "MoviePy - Done.\n",
      "Moviepy - Writing video augmented_videos\\8. Blind\\MVI_9854_augmented.MOV\n",
      "\n"
     ]
    },
    {
     "name": "stderr",
     "output_type": "stream",
     "text": [
      "                                                                                                                       \r"
     ]
    },
    {
     "name": "stdout",
     "output_type": "stream",
     "text": [
      "Moviepy - Done !\n",
      "Moviepy - video ready augmented_videos\\8. Blind\\MVI_9854_augmented.MOV\n",
      "Moviepy - Building video augmented_videos\\8. Blind\\MVI_9855_augmented.MOV.\n",
      "MoviePy - Writing audio in MVI_9855_augmentedTEMP_MPY_wvf_snd.mp3\n"
     ]
    },
    {
     "name": "stderr",
     "output_type": "stream",
     "text": [
      "                                                                                                                       \r"
     ]
    },
    {
     "name": "stdout",
     "output_type": "stream",
     "text": [
      "MoviePy - Done.\n",
      "Moviepy - Writing video augmented_videos\\8. Blind\\MVI_9855_augmented.MOV\n",
      "\n"
     ]
    },
    {
     "name": "stderr",
     "output_type": "stream",
     "text": [
      "                                                                                                                       \r"
     ]
    },
    {
     "name": "stdout",
     "output_type": "stream",
     "text": [
      "Moviepy - Done !\n",
      "Moviepy - video ready augmented_videos\\8. Blind\\MVI_9855_augmented.MOV\n",
      "Moviepy - Building video augmented_videos\\9. Nice\\MVI_9588_augmented.MOV.\n",
      "MoviePy - Writing audio in MVI_9588_augmentedTEMP_MPY_wvf_snd.mp3\n"
     ]
    },
    {
     "name": "stderr",
     "output_type": "stream",
     "text": [
      "                                                                                                                       \r"
     ]
    },
    {
     "name": "stdout",
     "output_type": "stream",
     "text": [
      "MoviePy - Done.\n",
      "Moviepy - Writing video augmented_videos\\9. Nice\\MVI_9588_augmented.MOV\n",
      "\n"
     ]
    },
    {
     "name": "stderr",
     "output_type": "stream",
     "text": [
      "                                                                                                                       \r"
     ]
    },
    {
     "name": "stdout",
     "output_type": "stream",
     "text": [
      "Moviepy - Done !\n",
      "Moviepy - video ready augmented_videos\\9. Nice\\MVI_9588_augmented.MOV\n",
      "Moviepy - Building video augmented_videos\\9. Nice\\MVI_9589_augmented.MOV.\n",
      "MoviePy - Writing audio in MVI_9589_augmentedTEMP_MPY_wvf_snd.mp3\n"
     ]
    },
    {
     "name": "stderr",
     "output_type": "stream",
     "text": [
      "                                                                                                                       \r"
     ]
    },
    {
     "name": "stdout",
     "output_type": "stream",
     "text": [
      "MoviePy - Done.\n",
      "Moviepy - Writing video augmented_videos\\9. Nice\\MVI_9589_augmented.MOV\n",
      "\n"
     ]
    },
    {
     "name": "stderr",
     "output_type": "stream",
     "text": [
      "                                                                                                                       \r"
     ]
    },
    {
     "name": "stdout",
     "output_type": "stream",
     "text": [
      "Moviepy - Done !\n",
      "Moviepy - video ready augmented_videos\\9. Nice\\MVI_9589_augmented.MOV\n",
      "Moviepy - Building video augmented_videos\\9. Nice\\MVI_9590_augmented.MOV.\n",
      "MoviePy - Writing audio in MVI_9590_augmentedTEMP_MPY_wvf_snd.mp3\n"
     ]
    },
    {
     "name": "stderr",
     "output_type": "stream",
     "text": [
      "                                                                                                                       \r"
     ]
    },
    {
     "name": "stdout",
     "output_type": "stream",
     "text": [
      "MoviePy - Done.\n",
      "Moviepy - Writing video augmented_videos\\9. Nice\\MVI_9590_augmented.MOV\n",
      "\n"
     ]
    },
    {
     "name": "stderr",
     "output_type": "stream",
     "text": [
      "                                                                                                                       \r"
     ]
    },
    {
     "name": "stdout",
     "output_type": "stream",
     "text": [
      "Moviepy - Done !\n",
      "Moviepy - video ready augmented_videos\\9. Nice\\MVI_9590_augmented.MOV\n",
      "Moviepy - Building video augmented_videos\\9. Nice\\MVI_9591_augmented.MOV.\n",
      "MoviePy - Writing audio in MVI_9591_augmentedTEMP_MPY_wvf_snd.mp3\n"
     ]
    },
    {
     "name": "stderr",
     "output_type": "stream",
     "text": [
      "                                                                                                                       \r"
     ]
    },
    {
     "name": "stdout",
     "output_type": "stream",
     "text": [
      "MoviePy - Done.\n",
      "Moviepy - Writing video augmented_videos\\9. Nice\\MVI_9591_augmented.MOV\n",
      "\n"
     ]
    },
    {
     "name": "stderr",
     "output_type": "stream",
     "text": [
      "                                                                                                                       \r"
     ]
    },
    {
     "name": "stdout",
     "output_type": "stream",
     "text": [
      "Moviepy - Done !\n",
      "Moviepy - video ready augmented_videos\\9. Nice\\MVI_9591_augmented.MOV\n",
      "Data augmentation completed! Check the 'augmented_videos' folder for augmented videos within their respective class folders.\n"
     ]
    }
   ],
   "source": [
    "from moviepy.editor import VideoFileClip, ImageClip, CompositeVideoClip\n",
    "import os\n",
    "import random\n",
    "video_path=\"C:\\\\Users\\\\sailo\\\\OneDrive - Vasireddy Venkatadri Institute of Technology\\\\Desktop\\\\Sign Language Project\\\\Dummy1 data\"\n",
    "#output_path=\"C:\\\\Users\\\\sailo\\\\OneDrive - Vasireddy Venkatadri Institute of Technology\\\\Desktop\\\\Sign Language Project\\\\Dummy1 data\"\n",
    "\n",
    "from moviepy.editor import VideoFileClip, ImageClip, CompositeVideoClip\n",
    "import os\n",
    "import random\n",
    "\n",
    "def augment_video(video_path, output_path):\n",
    "  \"\"\"\n",
    "  Applies random data augmentation techniques to a video and saves the augmented video.\n",
    "\n",
    "  Args:\n",
    "      video_path (str): Path to the original video file.\n",
    "      output_path (str): Path to save the augmented video file.\n",
    "  \"\"\"\n",
    "\n",
    "  clip = VideoFileClip(video_path)\n",
    "\n",
    "  # Randomly choose an augmentation technique\n",
    "  augmentation_type = random.choice(['temporal_shift', 'speed_variation'])\n",
    "\n",
    "  if augmentation_type == 'temporal_shift':\n",
    "    # Randomly shift the starting frame for temporal variation\n",
    "    max_shift = int(clip.duration * 0.2)  # Shift within 20% of video duration\n",
    "    shift = random.randint(0, max_shift)\n",
    "    augmented_clip = clip.subclip(shift, clip.duration)\n",
    "  elif augmentation_type == 'speed_variation':\n",
    "    # Simulate speed variation using slow motion effect (reduce fps)\n",
    "    speed_variation = random.uniform(0.8, 1.2)  # Vary speed between 80% and 120%\n",
    "    slow_motion_factor = 1 / speed_variation\n",
    "\n",
    "    # Create a slow motion clip by reducing the fps\n",
    "    slow_motion_clip = clip.set_fps(clip.fps * slow_motion_factor)\n",
    "\n",
    "    # Wrap the slow motion clip in a CompositeVideoClip to maintain audio (if present)\n",
    "    augmented_clip = CompositeVideoClip([slow_motion_clip])  # Add audio clip if needed\n",
    "\n",
    "  # Rest of the code for class label extraction, output path generation, etc. remains the same\n",
    "\n",
    "# ... (rest of your code)\n",
    "\n",
    "\n",
    "  # Extract class label from video path\n",
    "  class_label = os.path.basename(os.path.dirname(video_path))\n",
    "\n",
    "  # Create output folder structure if it doesn't exist\n",
    "  output_dir = os.path.join('augmented_videos', class_label)\n",
    "  os.makedirs(output_dir, exist_ok=True)  # Create directory if it doesn't exist\n",
    "\n",
    "  # Generate unique filename for augmented video\n",
    "  filename, ext = os.path.splitext(os.path.basename(video_path))\n",
    "  augmented_filename = f\"{filename}_augmented{ext}\"\n",
    "\n",
    "  # Save the augmented video within the class folder\n",
    "  output_path = os.path.join(output_dir, augmented_filename)\n",
    "  #augmented_clip.write_videofile(output_path)\n",
    "  augmented_clip.write_videofile(output_path, fps=clip.fps, codec='libx264')  # Replace 'libx264' with the appropriate codec for your video format\n",
    "\n",
    "# Replace 'videos' with the actual path to your video folder\n",
    "for class_dir in os.listdir(video_path):\n",
    "    # Iterate through class directories\n",
    "    class_path = os.path.join(video_path, class_dir)\n",
    "    \n",
    "    for filename in os.listdir(class_path):\n",
    "        # Iterate through video files within the class directory\n",
    "        video_path = os.path.join(class_path, filename)\n",
    "        # Maintain class structure in the output folder\n",
    "        output_path = os.path.join('augmented_videos', class_dir, filename)\n",
    "        augment_video(video_path, output_path)\n",
    "\n",
    "    video_path=\"C:\\\\Users\\\\sailo\\\\OneDrive - Vasireddy Venkatadri Institute of Technology\\\\Desktop\\\\Sign Language Project\\\\Dummy1 data\"\n",
    "    \n",
    "  \n",
    "\n",
    "\n",
    "print(\"Data augmentation completed! Check the 'augmented_videos' folder for augmented videos within their respective class folders.\")\n"
   ]
  },
  {
   "cell_type": "code",
   "execution_count": null,
   "id": "0190b590",
   "metadata": {},
   "outputs": [],
   "source": []
  }
 ],
 "metadata": {
  "kernelspec": {
   "display_name": "Python 3 (ipykernel)",
   "language": "python",
   "name": "python3"
  },
  "language_info": {
   "codemirror_mode": {
    "name": "ipython",
    "version": 3
   },
   "file_extension": ".py",
   "mimetype": "text/x-python",
   "name": "python",
   "nbconvert_exporter": "python",
   "pygments_lexer": "ipython3",
   "version": "3.11.5"
  }
 },
 "nbformat": 4,
 "nbformat_minor": 5
}
